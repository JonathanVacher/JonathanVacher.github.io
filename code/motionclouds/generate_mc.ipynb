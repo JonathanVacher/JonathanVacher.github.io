{
 "cells": [
  {
   "cell_type": "code",
   "execution_count": 3,
   "metadata": {
    "collapsed": false
   },
   "outputs": [],
   "source": [
    "import mcSyn_original as mc\n",
    "import matplotlib.pyplot as plt\n",
    "import numpy as np\n",
    "import cv2\n",
    "import time\n",
    "\n",
    "%matplotlib inline"
   ]
  },
  {
   "cell_type": "code",
   "execution_count": null,
   "metadata": {
    "collapsed": false
   },
   "outputs": [],
   "source": []
  },
  {
   "cell_type": "code",
   "execution_count": 4,
   "metadata": {
    "collapsed": false
   },
   "outputs": [
    {
     "name": "stdout",
     "output_type": "stream",
     "text": [
      "Platforms:\n",
      "[0]: Intel(R) OpenCL\n",
      "[1]: Experimental OpenCL 2.0 CPU Only Platform\n",
      "Choose the platform [0]:0\n",
      "Devices:\n",
      "[0]: Intel(R) HD Graphics 4400\n",
      "[1]: Intel(R) Core(TM) i7-4500U CPU @ 1.80GHz\n",
      "Choose the device [0]:0\n",
      "Correct parameters lifeTime = 0.250000 > 0.148425. \n",
      "\n"
     ]
    },
    {
     "name": "stderr",
     "output_type": "stream",
     "text": [
      "C:\\Anaconda2\\lib\\site-packages\\pyopencl\\__init__.py:63: CompilerWarning: Non-empty compiler output encountered. Set the environment variable PYOPENCL_COMPILER_OUTPUT=1 to see more.\n",
      "  \"to see more.\", CompilerWarning)\n"
     ]
    }
   ],
   "source": [
    "fileName1 = 'mc_tSpread3'\n",
    "fileName2= 'mc_time2'\n",
    "\n",
    "#t = time.clock()\n",
    "\n",
    "I1=mc.mcSyn(fileName = fileName1, overSamp =3, timeOffset = 2, N = 512, \\\n",
    "    framePerSecond=60, duration=5, varConst=37.0, octave=1, theta=0.0, thetaSpread=20.0, \\\n",
    "    fMode=15.0, fSpread=1.0, lifeTime=0.250)\n",
    "\n",
    "#duration = time.clock() - t \n",
    "\n",
    "#print duration\n",
    "#I2=mc.mcSyn(fileName = fileName2, overSamp =2, timeOffset = 2, N = 512, \\\n",
    "#    framePerSecond=60, duration=5, varConst=37.0, octave=1, theta=0.0, thetaSpread=2, \\\n",
    "#    fMode=30.0, fSpread=2.5, lifeTime=0.250)\n",
    "\n",
    "#I = (I1+I2)/2"
   ]
  },
  {
   "cell_type": "code",
   "execution_count": 16,
   "metadata": {
    "collapsed": false
   },
   "outputs": [
    {
     "data": {
      "text/plain": [
       "True"
      ]
     },
     "execution_count": 16,
     "metadata": {},
     "output_type": "execute_result"
    }
   ],
   "source": [
    "filename = 'mctestb'\n",
    "filenamevid = filename + '.avi'\n",
    "filenameim = filename + '.png'\n",
    "#fourcc =  cv2.CV_FOURCC(*'XVID')\n",
    "#fourcc = cv2.cv.CV_FOURCC('D','I','V','X') \n",
    "fourcc = cv2.VideoWriter_fourcc('D','I','V','X')\n",
    "cv2.imwrite(filenameim, I[:,:,0])\n",
    "\n",
    "out = cv2.VideoWriter(filenamevid, fourcc, 60, (512,512), False)\n",
    "#out.open(filenamevid,fourcc,60,(256,256))\n",
    "#out.isOpened()\n",
    "\n",
    "out.isOpened()"
   ]
  },
  {
   "cell_type": "code",
   "execution_count": 17,
   "metadata": {
    "collapsed": true
   },
   "outputs": [],
   "source": [
    "for i in range(I.shape[2]):\n",
    "    out.write(np.uint8(I[:,:,i]))\n",
    "    \n",
    "out.release()"
   ]
  },
  {
   "cell_type": "code",
   "execution_count": null,
   "metadata": {
    "collapsed": false
   },
   "outputs": [],
   "source": [
    "out.release()"
   ]
  },
  {
   "cell_type": "code",
   "execution_count": null,
   "metadata": {
    "collapsed": false
   },
   "outputs": [],
   "source": []
  }
 ],
 "metadata": {
  "kernelspec": {
   "display_name": "Python 2",
   "language": "python",
   "name": "python2"
  },
  "language_info": {
   "codemirror_mode": {
    "name": "ipython",
    "version": 2
   },
   "file_extension": ".py",
   "mimetype": "text/x-python",
   "name": "python",
   "nbconvert_exporter": "python",
   "pygments_lexer": "ipython2",
   "version": "2.7.11"
  }
 },
 "nbformat": 4,
 "nbformat_minor": 0
}
